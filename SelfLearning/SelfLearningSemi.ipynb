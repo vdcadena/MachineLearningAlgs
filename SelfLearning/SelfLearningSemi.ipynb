{
 "cells": [
  {
   "cell_type": "code",
   "execution_count": 293,
   "metadata": {},
   "outputs": [],
   "source": [
    "import numpy as np\n",
    "import matplotlib.pyplot as plt\n",
    "from sklearn.base import BaseEstimator, ClassifierMixin\n",
    "from sklearn.linear_model import LinearRegression\n",
    "import numpy as np\n",
    "from sklearn.semi_supervised import LabelPropagation\n",
    "plt.rcParams['figure.figsize'] = [12, 10]"
   ]
  },
  {
   "cell_type": "code",
   "execution_count": 34,
   "metadata": {},
   "outputs": [],
   "source": [
    "class LinearRegressionClassifier(BaseEstimator, ClassifierMixin):  \n",
    "    \"\"\"An example of classifier\"\"\"\n",
    "\n",
    "    def __init__(self,reg):\n",
    "        self.reg_ = reg\n",
    "\n",
    "\n",
    "    def fit(self, X, y=None):\n",
    "\n",
    "        self.X_ = X\n",
    "        self.y_ = y\n",
    "        self.threshold_ = 0  \n",
    "        self.reg_.fit(X,y)\n",
    "        return self\n",
    "\n",
    "    def predict(self, X):\n",
    "        try:\n",
    "            getattr(self, \"threshold_\")\n",
    "        except AttributeError:\n",
    "            raise RuntimeError(\"You must train classifer before predicting data!\")\n",
    "\n",
    "        \n",
    "        predictions = self.reg_.predict(X)\n",
    "        predictions[predictions > self.threshold_] = 1\n",
    "        predictions[predictions < self.threshold_] = -1\n",
    "        \n",
    "        return predictions\n",
    "    \n"
   ]
  },
  {
   "cell_type": "code",
   "execution_count": 177,
   "metadata": {},
   "outputs": [],
   "source": [
    "def self_learning(L, U, y,k):\n",
    "    reg = LinearRegression()\n",
    "    classifier = LinearRegressionClassifier(reg)\n",
    "    max_iter = 10000\n",
    "    t = 0\n",
    "    while U.shape[0] > 0 and t < max_iter:\n",
    "        classifier.fit(L,y)\n",
    "        y_pred = np.abs(classifier.reg_.predict(U))\n",
    "        y_class = classifier.predict(U)\n",
    "        indexes = (-y_pred).argsort()[:k]\n",
    "        L = np.vstack([L, U[indexes,:]])\n",
    "        U = np.delete(U, indexes, 0)       \n",
    "        y = np.append(y, y_class[indexes])\n",
    "        t = t + 1\n",
    "    classifier.fit(L,y)\n",
    "    return classifier"
   ]
  },
  {
   "cell_type": "code",
   "execution_count": 188,
   "metadata": {},
   "outputs": [],
   "source": [
    "def estimate_error(X_test,y_test,classifier):\n",
    "    y_pred = classifier.predict(X_test)\n",
    "    equal = np.sum(y_pred == y_test)\n",
    "    error = 1-(equal/y_test.shape[0])\n",
    "    return error"
   ]
  },
  {
   "cell_type": "code",
   "execution_count": 281,
   "metadata": {},
   "outputs": [],
   "source": [
    "def estimate_loss(X_test,y_test,classifier):\n",
    "    y_pred_cont = classifier.reg_.predict(X_test)\n",
    "    losses = (y_test - y_pred_cont)**2\n",
    "    loss = np.sum(losses)/X_test.shape[0]\n",
    "    return loss"
   ]
  },
  {
   "cell_type": "code",
   "execution_count": 311,
   "metadata": {},
   "outputs": [],
   "source": [
    "def learning_curve(mean,std,n_unlabeled,ylab,title):\n",
    "    plt.title(title)\n",
    "    plt.plot(n_unlabeled,mean)\n",
    "    plt.ylabel(ylab)\n",
    "    plt.xlabel('Number of Unlabeled Samples')\n",
    "    plt.errorbar(n_unlabeled, mean, std, linestyle='None', marker='^')\n",
    "    plt.axhline(mean[0],linestyle='--',color='red',label=\"Error Rate Supervised\")\n",
    "    plt.show()"
   ]
  },
  {
   "cell_type": "code",
   "execution_count": 275,
   "metadata": {},
   "outputs": [],
   "source": [
    "def label_propagation(X_u, y_l, X_l,k):\n",
    "    X_train_prop = np.concatenate((X_l, X_u), axis=0)\n",
    "    labels = np.concatenate((y_l,np.repeat(-1, X_u.shape[0])))\n",
    "    label_prop_model = LabelPropagation(kernel='knn',n_neighbors=k)\n",
    "    label_prop_model.fit(X_train_prop, labels)\n",
    "    y_train = label_prop_model.transduction_\n",
    "    X_train = np.concatenate((X_l, X_u), axis=0)\n",
    "    return X_train, y_train"
   ]
  }
 ],
 "metadata": {
  "kernelspec": {
   "display_name": "Python 3",
   "language": "python",
   "name": "python3"
  },
  "language_info": {
   "codemirror_mode": {
    "name": "ipython",
    "version": 3
   },
   "file_extension": ".py",
   "mimetype": "text/x-python",
   "name": "python",
   "nbconvert_exporter": "python",
   "pygments_lexer": "ipython3",
   "version": "3.6.8"
  }
 },
 "nbformat": 4,
 "nbformat_minor": 2
}
