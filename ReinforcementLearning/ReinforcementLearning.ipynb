{
 "cells": [
  {
   "cell_type": "code",
   "execution_count": 77,
   "metadata": {},
   "outputs": [],
   "source": [
    "import numpy as np\n",
    "import matplotlib.pyplot as plt\n",
    "import seaborn as sns"
   ]
  },
  {
   "cell_type": "code",
   "execution_count": 78,
   "metadata": {},
   "outputs": [
    {
     "data": {
      "text/plain": [
       "0.0"
      ]
     },
     "execution_count": 78,
     "metadata": {},
     "output_type": "execute_result"
    }
   ],
   "source": [
    "states = np.zeros((9,7))\n",
    "states[1,1:3] = 1\n",
    "states[1,3] = 2 \n",
    "states[1,4:6] = 1\n",
    "states[2,1] = 1\n",
    "states[2,4] = 1\n",
    "states[3,1:6] = 1\n",
    "states[4,1] = 1\n",
    "states[4,5] = 1\n",
    "states[5,1:6] = 1\n",
    "states[6,1] = 1\n",
    "states[6,4] = 1\n",
    "states[7,1:6] = 1\n",
    "states[7,5] = 3 \n",
    "rewards = np.zeros((9,7))\n",
    "rewards[1,3] = 0\n",
    "gamma = 0.9\n",
    "rewards[(1,2)]\n"
   ]
  },
  {
   "cell_type": "code",
   "execution_count": 79,
   "metadata": {},
   "outputs": [],
   "source": [
    "mdp = MDP(rewards,states)"
   ]
  },
  {
   "cell_type": "code",
   "execution_count": 80,
   "metadata": {},
   "outputs": [],
   "source": [
    "def convert_q_to_grid(q):\n",
    "    initial_state = list(q)[0][0]\n",
    "    grid = np.zeros((9,7))\n",
    "    maximum = -1\n",
    "    for (state,action) in q:\n",
    "        if(initial_state != state):\n",
    "            grid[initial_state] = maximum\n",
    "            initial_state = state\n",
    "            maximum = -1\n",
    "\n",
    "        if(q[(state,action)] > maximum):\n",
    "            maximum = q[(state,action)]\n",
    "\n",
    "    return grid"
   ]
  },
  {
   "cell_type": "code",
   "execution_count": 72,
   "metadata": {},
   "outputs": [
    {
     "data": {
      "image/png": "[encoded data removed]",
      "text/plain": [
       "<Figure size 432x288 with 2 Axes>"
      ]
     },
     "metadata": {},
     "output_type": "display_data"
    }
   ],
   "source": [
    "mdp = MDP(rewards,states)\n",
    "q = mdp.value_iteration(0.9)\n",
    "graph = convert_q_to_grid(q)\n",
    "ax = sns.heatmap(graph, linewidth=0.00, cmap=sns.color_palette(\"coolwarm\", 10))\n",
    "plt.show()\n",
    "    "
   ]
  },
  {
   "cell_type": "code",
   "execution_count": 76,
   "metadata": {},
   "outputs": [
    {
     "data": {
      "image/png": "[encoded data removed]",
      "text/plain": [
       "<Figure size 432x288 with 2 Axes>"
      ]
     },
     "metadata": {},
     "output_type": "display_data"
    }
   ],
   "source": [
    "q_l = mdp.q_learning(0.8,0.8,0.5)\n",
    "graph = convert_q_to_grid(q_l)\n",
    "ax = sns.heatmap(graph, linewidth=0.00, cmap=sns.color_palette(\"coolwarm\", 10))\n",
    "plt.show()"
   ]
  },
  {
   "cell_type": "code",
   "execution_count": 70,
   "metadata": {},
   "outputs": [],
   "source": [
    "class MDP:\n",
    "    \n",
    "    FINAL = 2\n",
    "    START = 3\n",
    "    OBSTACLE = 0\n",
    "    FREE = 1\n",
    "    X_DIMENSION = 7\n",
    "    Y_DIMENSION = 9\n",
    "    final_action = \"exit\"\n",
    "    actions = [\"up\",\"down\",\"right\",\"left\",\"exit\"]\n",
    "    Q_star = {}\n",
    "    \n",
    "    def __init__(self, rewards, states):\n",
    "        self.rewards = rewards\n",
    "        self.states = states\n",
    "    \n",
    "    \n",
    "    \n",
    "    def value_iteration(self, gamma):\n",
    "        Qn = self.initialize_q(self.states)\n",
    "        Qn_1 = self.initialize_q(self.states)\n",
    "        grid = self.get_grid_states()\n",
    "        for n in range(10):\n",
    "            \n",
    "            for s in grid:\n",
    "                possible_actions = self.get_possible_actions(s)\n",
    "                for a in possible_actions:\n",
    "                    #with probability 1 goes to s_prime\n",
    "                    s_prime = self.do_action(a,s)\n",
    "                    a_primes = self.get_possible_actions(s_prime)\n",
    "                    #select MAX Qn\n",
    "                    maximum, max_a_prime = self.select_max_action(a_primes,s_prime,Qn)\n",
    "        \n",
    "                            \n",
    "                    #Case specific rewards\n",
    "                    r = self.reward(a,s_prime, s)\n",
    "                    if(a == self.final_action):\n",
    "                        Qn_1[s,a] = r\n",
    "                    else:\n",
    "                        Qn_1[s,a] = r + gamma * maximum\n",
    "                        \n",
    "                    Qn = Qn_1\n",
    "                    \n",
    "        self.Q_star = Qn\n",
    "        return self.Q_star\n",
    "    \n",
    "    \n",
    "    \n",
    "    \n",
    "    \n",
    "    def q_learning(self, alpha, gamma, epsilon):\n",
    "        Qn = self.initialize_q(self.states)\n",
    "        Qn_1 = self.initialize_q(self.states)\n",
    "        for n in range(12000):        \n",
    "            s = (7,5)\n",
    "            while True:\n",
    "                possible_actions = self.get_possible_actions(s)\n",
    "                max_q, max_a = self.select_max_action(possible_actions,s,Qn)  \n",
    "                max_a = self.exploration_function(max_a, epsilon, s)\n",
    "                \n",
    "                s_prime = self.do_action(max_a,s)\n",
    "                \n",
    "                a_primes = self.get_possible_actions(s_prime)\n",
    "                #select MAX Qn\n",
    "                max_qprime, max_a_prime = self.select_max_action(a_primes,s_prime,Qn)\n",
    "                \n",
    "                #Case specific rewards\n",
    "                r = self.reward(max_a,s_prime, s)\n",
    "                if(max_a == self.final_action):\n",
    "                    Qn_1[s,max_a] = r\n",
    "                    break\n",
    "                else:\n",
    "                    Qn_1[s,max_a] = Qn[s,max_a] + alpha* (r + (gamma * max_qprime) - max_q)\n",
    "                    s = s_prime\n",
    "                Qn = Qn_1\n",
    "                    \n",
    "        self.Q_star_learning = Qn\n",
    "        return self.Q_star_learning\n",
    "    \n",
    "    \n",
    "    def exploration_function(self, action, epsilon, state):\n",
    "        if(self.states[state] == 2):\n",
    "            return \"exit\"\n",
    "        else:        \n",
    "            random_number = np.random.uniform()\n",
    "            actions = self.get_possible_actions(state)\n",
    "            if(random_number <= epsilon):\n",
    "                index = np.random.choice(len(actions), 1, replace=False)  \n",
    "                return actions[index[0]]\n",
    "            else:\n",
    "                return action\n",
    "            \n",
    "\n",
    "    def select_max_action(self,actions, state, Q):\n",
    "        maximum = -1\n",
    "        best_action = actions[0]\n",
    "        for action in actions:\n",
    "            if(Q[state, action] > maximum):\n",
    "                maximum = Q[state, action]\n",
    "                best_action = action\n",
    "        return [maximum, best_action]\n",
    "    \n",
    "    \n",
    "    \n",
    "    def reward(self,action, next_state, current_state):\n",
    "        if( (action == \"left\" and self.states[next_state] == self.FINAL) or (action == \"right\" and self.states[next_state] == self.FINAL) ):\n",
    "            return 1\n",
    "        else:\n",
    "            return 0\n",
    "        \n",
    "    def get_grid_states(self):\n",
    "        grid = {}\n",
    "        for i in range(self.Y_DIMENSION):\n",
    "            for j in range(self.X_DIMENSION):\n",
    "                    grid[(i,j)]=states[i,j]\n",
    "        return grid\n",
    "    \n",
    "    def get_possible_actions(self, state):\n",
    "        y = state[0]\n",
    "        x = state[1]\n",
    "        actions = []\n",
    "        if len(state)!=2:\n",
    "            raise Exception('The state needs to be a tuple')\n",
    "        if(state[0] >= self.Y_DIMENSION or  state[1] >= self.X_DIMENSION):\n",
    "            raise Exception('The dimensions are bigger than they should')\n",
    "        if(self.states[y , x] == self.OBSTACLE):\n",
    "            return []\n",
    "            \n",
    "        if(self.states[state] == self.FINAL):\n",
    "            return [self.final_action]\n",
    "        if(y > 0 and self.states[y - 1, x] != self.OBSTACLE):\n",
    "            #can move up\n",
    "            actions.append('up')\n",
    "            \n",
    "        if(y < self.Y_DIMENSION and self.states[y + 1 , x] != self.OBSTACLE):\n",
    "            #can move down\n",
    "            actions.append('down')\n",
    "            \n",
    "        if(x < self.X_DIMENSION and self.states[y , x + 1] != self.OBSTACLE):\n",
    "            #can move right\n",
    "            actions.append('right')\n",
    "            \n",
    "        if(x > 0 and self.states[y , x - 1] != self.OBSTACLE):\n",
    "            #can move left\n",
    "            actions.append('left')\n",
    "        return actions\n",
    "    \n",
    "    def initialize_q(self,states):     \n",
    "        q = {}\n",
    "        for i in range(self.Y_DIMENSION):\n",
    "            for j in range(self.X_DIMENSION):\n",
    "                for action in self.actions:\n",
    "                    q[(i,j),action]=0\n",
    "        return q\n",
    "        \n",
    "    def do_action(self,action,state):\n",
    "        y = state[0]\n",
    "        x = state[1]\n",
    "        if(action == 'up'):\n",
    "            return (y - 1,x)\n",
    "        elif(action == 'right'):\n",
    "            return (y,x + 1)\n",
    "        elif(action == 'left'):\n",
    "            return (y,x - 1)\n",
    "        elif(action == 'down'):\n",
    "            return (y + 1,x)\n",
    "        return (y,x)\n",
    "    \n",
    "    "
   ]
  },
  {
   "cell_type": "code",
   "execution_count": 17,
   "metadata": {},
   "outputs": [
    {
     "name": "stdout",
     "output_type": "stream",
     "text": [
      "a\n"
     ]
    }
   ],
   "source": [
    "actions=[\"a\",\"b\",\"c\"]\n",
    "index = np.random.choice(len(actions), 1, replace=False)  \n",
    "print(actions[index[0]])"
   ]
  },
  {
   "cell_type": "code",
   "execution_count": null,
   "metadata": {},
   "outputs": [],
   "source": []
  }
 ],
 "metadata": {
  "kernelspec": {
   "display_name": "Python 3",
   "language": "python",
   "name": "python3"
  },
  "language_info": {
   "codemirror_mode": {
    "name": "ipython",
    "version": 3
   },
   "file_extension": ".py",
   "mimetype": "text/x-python",
   "name": "python",
   "nbconvert_exporter": "python",
   "pygments_lexer": "ipython3",
   "version": "3.6.8"
  }
 },
 "nbformat": 4,
 "nbformat_minor": 2
}
